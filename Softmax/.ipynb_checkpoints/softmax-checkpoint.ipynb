{
 "cells": [
  {
   "cell_type": "markdown",
   "metadata": {},
   "source": [
    "# Softmax exercise\n",
    "\n",
    "We will implement a softmax classifier that is trained on the CIFAR10 dataset. The output is a model that is able to classify the input image into the 10 different classes of the CIFAR10 dataset.\n",
    "\n",
    "Complete and hand in this completed worksheet (including its outputs and any supporting code outside of the worksheet) with your assignment submission.\n",
    "\n",
    "You will:\n",
    "\n",
    "- implement a fully-vectorized **loss function** for the Softmax classifier\n",
    "- implement the fully-vectorized expression for its **analytic gradient**\n",
    "- use a validation set to **tune the learning rate** strength\n",
    "- **optimize** the loss function with **SGD**\n",
    "- **visualize** the final learned weights\n"
   ]
  },
  {
   "cell_type": "code",
   "execution_count": 1,
   "metadata": {},
   "outputs": [],
   "source": [
    "import random\n",
    "import numpy as np\n",
    "from data_utils import load_CIFAR10\n",
    "import matplotlib.pyplot as plt\n",
    "import time\n",
    "import pickle\n",
    "\n",
    "%matplotlib inline\n",
    "plt.rcParams['figure.figsize'] = (10.0, 8.0) # set default size of plots\n",
    "plt.rcParams['image.interpolation'] = 'nearest'\n",
    "plt.rcParams['image.cmap'] = 'gray'\n",
    "\n",
    "# for auto-reloading extenrnal modules\n",
    "# see http://stackoverflow.com/questions/1907993/autoreload-of-modules-in-ipython\n",
    "%load_ext autoreload\n",
    "%autoreload 2"
   ]
  },
  {
   "cell_type": "code",
   "execution_count": 3,
   "metadata": {},
   "outputs": [
    {
     "name": "stdout",
     "output_type": "stream",
     "text": [
      "Files already downloaded and verified\n",
      "Train data shape:  (49000, 3073)\n",
      "Train labels shape:  (49000,)\n",
      "Validation data shape:  (1000, 3073)\n",
      "Validation labels shape:  (1000,)\n"
     ]
    }
   ],
   "source": [
    "def get_CIFAR10_data(num_training=49000, num_validation=1000, num_test=1000, num_dev=500):\n",
    "    \"\"\"\n",
    "    Load the CIFAR-10 dataset from disk and perform preprocessing to prepare\n",
    "    it for the linear classifier.  \n",
    "    \"\"\"\n",
    "    # Load the raw CIFAR-10 data\n",
    "    cifar10_dir = '../data/cifar-10-batches-py'\n",
    "    X_train, y_train = load_CIFAR10(cifar10_dir)\n",
    "    \n",
    "    # subsample the data\n",
    "    mask = list(range(num_training, num_training + num_validation))\n",
    "    X_val = X_train[mask]\n",
    "    y_val = y_train[mask]\n",
    "    mask = list(range(num_training))\n",
    "    X_train = X_train[mask]\n",
    "    y_train = y_train[mask]\n",
    "    \n",
    "    # Preprocessing: reshape the image data into rows\n",
    "    X_train = np.reshape(X_train, (X_train.shape[0], -1))\n",
    "    X_val = np.reshape(X_val, (X_val.shape[0], -1))\n",
    "    \n",
    "    # Normalize the data: subtract the mean image\n",
    "    mean_image = np.mean(X_train, axis = 0)\n",
    "    X_train -= mean_image\n",
    "    X_val -= mean_image\n",
    "    \n",
    "    # add bias dimension and transform into columns\n",
    "    X_train = np.hstack([X_train, np.ones((X_train.shape[0], 1))])\n",
    "    X_val = np.hstack([X_val, np.ones((X_val.shape[0], 1))])\n",
    "    \n",
    "    return X_train, y_train, X_val, y_val\n",
    "\n",
    "\n",
    "# Invoke the above function to get our data.\n",
    "X_train, y_train, X_val, y_val = get_CIFAR10_data()\n",
    "print('Train data shape: ', X_train.shape)\n",
    "print('Train labels shape: ', y_train.shape)\n",
    "print('Validation data shape: ', X_val.shape)\n",
    "print('Validation labels shape: ', y_val.shape)"
   ]
  },
  {
   "cell_type": "markdown",
   "metadata": {},
   "source": [
    "## Softmax Classifier\n",
    "\n",
    "Your code for this section will all be written inside **softmax.py**. This is where the method **softmax_loss_vectorized** will be implemented. This method just returns the loss and gradient after applying the softmax function.\n"
   ]
  },
  {
   "cell_type": "code",
   "execution_count": 4,
   "metadata": {},
   "outputs": [
    {
     "name": "stdout",
     "output_type": "stream",
     "text": [
      "vectorized loss: 2.372074e+00 computed in 0.031616s\n"
     ]
    }
   ],
   "source": [
    "from softmax import softmax_loss_vectorized\n",
    "W = np.random.randn(3073, 10) * 0.0001\n",
    "reg=1\n",
    "tic = time.time()\n",
    "loss_vectorized, grad_vectorized = softmax_loss_vectorized(W, X_val, y_val,reg)\n",
    "toc = time.time()\n",
    "print('vectorized loss: %e computed in %fs' % (loss_vectorized, toc - tic))"
   ]
  },
  {
   "cell_type": "markdown",
   "metadata": {},
   "source": [
    "## In the file linear_classifier.py, implement SGD in the function LinearClassifier.train() and call this function to do the training.\n",
    "## Write the LinearSVM.predict() function and call this function to evaluate the performance on both the training and validation set"
   ]
  },
  {
   "cell_type": "code",
   "execution_count": 14,
   "metadata": {},
   "outputs": [
    {
     "name": "stdout",
     "output_type": "stream",
     "text": [
      "0\n",
      "1\n",
      "2\n"
     ]
    },
    {
     "name": "stderr",
     "output_type": "stream",
     "text": [
      "/home/fabien/Desktop/EPFL/1-Master/Semestre_4/DLfAD/Lab2_2020/Softmax/softmax.py:35: RuntimeWarning: divide by zero encountered in log\n",
      "  correct_log_probs = -np.log(prob_scores[range(num_train), y])\n",
      "/home/fabien/Desktop/EPFL/1-Master/Semestre_4/DLfAD/Lab2_2020/Softmax/softmax.py:33: RuntimeWarning: overflow encountered in exp\n",
      "  exp_scores = np.exp(scores)\n",
      "/home/fabien/Desktop/EPFL/1-Master/Semestre_4/DLfAD/Lab2_2020/Softmax/softmax.py:34: RuntimeWarning: invalid value encountered in true_divide\n",
      "  prob_scores = exp_scores/np.sum(exp_scores, axis=1, keepdims=True)\n"
     ]
    },
    {
     "name": "stdout",
     "output_type": "stream",
     "text": [
      "3\n",
      "4\n",
      "5\n",
      "6\n",
      "7\n",
      "8\n",
      "9\n",
      "10\n",
      "11\n",
      "12\n",
      "13\n",
      "14\n",
      "15\n",
      "16\n",
      "17\n",
      "18\n",
      "19\n",
      "20\n",
      "21\n",
      "22\n",
      "23\n",
      "24\n",
      "25\n",
      "26\n",
      "27\n",
      "28\n",
      "29\n",
      "30\n",
      "31\n",
      "32\n",
      "33\n",
      "34\n",
      "35\n",
      "36\n",
      "37\n",
      "38\n",
      "39\n",
      "40\n",
      "41\n",
      "42\n",
      "43\n",
      "44\n",
      "45\n",
      "46\n",
      "47\n",
      "48\n",
      "49\n",
      "lr 4.000000e-07 train accuracy: 0.305531 val accuracy: 0.287000\n",
      "lr 1.003920e-04 train accuracy: 0.286347 val accuracy: 0.273000\n",
      "lr 2.003840e-04 train accuracy: 0.100265 val accuracy: 0.087000\n",
      "lr 3.003760e-04 train accuracy: 0.100265 val accuracy: 0.087000\n",
      "lr 4.003680e-04 train accuracy: 0.100265 val accuracy: 0.087000\n",
      "lr 5.003600e-04 train accuracy: 0.100265 val accuracy: 0.087000\n",
      "lr 6.003520e-04 train accuracy: 0.100265 val accuracy: 0.087000\n",
      "lr 7.003440e-04 train accuracy: 0.100265 val accuracy: 0.087000\n",
      "lr 8.003360e-04 train accuracy: 0.100265 val accuracy: 0.087000\n",
      "lr 9.003280e-04 train accuracy: 0.100265 val accuracy: 0.087000\n",
      "lr 1.000320e-03 train accuracy: 0.100265 val accuracy: 0.087000\n",
      "lr 1.100312e-03 train accuracy: 0.100265 val accuracy: 0.087000\n",
      "lr 1.200304e-03 train accuracy: 0.100265 val accuracy: 0.087000\n",
      "lr 1.300296e-03 train accuracy: 0.100265 val accuracy: 0.087000\n",
      "lr 1.400288e-03 train accuracy: 0.100265 val accuracy: 0.087000\n",
      "lr 1.500280e-03 train accuracy: 0.100265 val accuracy: 0.087000\n",
      "lr 1.600272e-03 train accuracy: 0.100265 val accuracy: 0.087000\n",
      "lr 1.700264e-03 train accuracy: 0.100265 val accuracy: 0.087000\n",
      "lr 1.800256e-03 train accuracy: 0.100265 val accuracy: 0.087000\n",
      "lr 1.900248e-03 train accuracy: 0.100265 val accuracy: 0.087000\n",
      "lr 2.000240e-03 train accuracy: 0.100265 val accuracy: 0.087000\n",
      "lr 2.100232e-03 train accuracy: 0.100265 val accuracy: 0.087000\n",
      "lr 2.200224e-03 train accuracy: 0.100265 val accuracy: 0.087000\n",
      "lr 2.300216e-03 train accuracy: 0.100265 val accuracy: 0.087000\n",
      "lr 2.400208e-03 train accuracy: 0.100265 val accuracy: 0.087000\n",
      "lr 2.500200e-03 train accuracy: 0.100265 val accuracy: 0.087000\n",
      "lr 2.600192e-03 train accuracy: 0.100265 val accuracy: 0.087000\n",
      "lr 2.700184e-03 train accuracy: 0.100265 val accuracy: 0.087000\n",
      "lr 2.800176e-03 train accuracy: 0.100265 val accuracy: 0.087000\n",
      "lr 2.900168e-03 train accuracy: 0.100265 val accuracy: 0.087000\n",
      "lr 3.000160e-03 train accuracy: 0.100265 val accuracy: 0.087000\n",
      "lr 3.100152e-03 train accuracy: 0.100265 val accuracy: 0.087000\n",
      "lr 3.200144e-03 train accuracy: 0.100265 val accuracy: 0.087000\n",
      "lr 3.300136e-03 train accuracy: 0.100265 val accuracy: 0.087000\n",
      "lr 3.400128e-03 train accuracy: 0.100265 val accuracy: 0.087000\n",
      "lr 3.500120e-03 train accuracy: 0.100265 val accuracy: 0.087000\n",
      "lr 3.600112e-03 train accuracy: 0.100265 val accuracy: 0.087000\n",
      "lr 3.700104e-03 train accuracy: 0.100265 val accuracy: 0.087000\n",
      "lr 3.800096e-03 train accuracy: 0.100265 val accuracy: 0.087000\n",
      "lr 3.900088e-03 train accuracy: 0.100265 val accuracy: 0.087000\n",
      "lr 4.000080e-03 train accuracy: 0.100265 val accuracy: 0.087000\n",
      "lr 4.100072e-03 train accuracy: 0.100265 val accuracy: 0.087000\n",
      "lr 4.200064e-03 train accuracy: 0.100265 val accuracy: 0.087000\n",
      "lr 4.300056e-03 train accuracy: 0.100265 val accuracy: 0.087000\n",
      "lr 4.400048e-03 train accuracy: 0.100265 val accuracy: 0.087000\n",
      "lr 4.500040e-03 train accuracy: 0.100265 val accuracy: 0.087000\n",
      "lr 4.600032e-03 train accuracy: 0.100265 val accuracy: 0.087000\n",
      "lr 4.700024e-03 train accuracy: 0.100265 val accuracy: 0.087000\n",
      "lr 4.800016e-03 train accuracy: 0.100265 val accuracy: 0.087000\n",
      "lr 4.900008e-03 train accuracy: 0.100265 val accuracy: 0.087000\n",
      "best validation accuracy achieved during cross-validation: 0.287000\n"
     ]
    }
   ],
   "source": [
    "# Use the validation set to tune hyperparameters (learning rate). \n",
    "# You should experiment with different ranges for the learning\n",
    "# rates; if you are careful you should be able to\n",
    "# get a classification accuracy of over 0.35 on the validation set.\n",
    "from linear_classifier import Softmax\n",
    "results = {}\n",
    "best_val = -1\n",
    "best_softmax = None\n",
    "learning_rates = [4e-7, 5e-3]\n",
    "\n",
    "################################################################################\n",
    "# TODO:                                                                        #\n",
    "# Use the validation set to set the learning.                                  #\n",
    "# Save the best trained softmax classifer in best_softmax.                     #\n",
    "################################################################################\n",
    "\n",
    "num_splt_lr = 500\n",
    "for i in range(num_splt_lr):\n",
    "        print(i)\n",
    "        learning_rate_i = learning_rates[0] + i * (learning_rates[1] - learning_rates[0]) / num_splt_lr\n",
    "        softmax = Softmax()\n",
    "        loss_hist = softmax.train(X_train, y_train, learning_rate=learning_rate_i,\n",
    "                              num_iters=10, verbose=False)\n",
    "\n",
    "        y_train_pred = softmax.predict(X_train)\n",
    "        \n",
    "        accuracy_train = np.mean(y_train == y_train_pred)\n",
    "        y_val_pred = softmax.predict(X_val)\n",
    "        accuracy_val = np.mean(y_val == y_val_pred)\n",
    "\n",
    "        results[learning_rate_i] = (accuracy_train, accuracy_val)\n",
    "\n",
    "        if accuracy_val > best_val:\n",
    "            best_val = accuracy_val\n",
    "            best_softmax = softmax\n",
    "################################################################################\n",
    "#                              END OF YOUR CODE                                #\n",
    "################################################################################\n",
    "    \n",
    "# Print out results.\n",
    "for lr in sorted(results):\n",
    "    train_accuracy, val_accuracy = results[lr]\n",
    "    print('lr %e train accuracy: %f val accuracy: %f' % (\n",
    "                lr, train_accuracy, val_accuracy))\n",
    "    \n",
    "print('best validation accuracy achieved during cross-validation: %f' % best_val)"
   ]
  },
  {
   "cell_type": "code",
   "execution_count": 5,
   "metadata": {},
   "outputs": [
    {
     "name": "stdout",
     "output_type": "stream",
     "text": [
      "[8 4 8 1 6 6 0 0 7 3 7 9 9 5 2 3 4 8 8 7 8 1 1 1 2 8 9 4 5 1 4 9 1 2 3 1 1\n",
      " 7 2 3 1 4 8 8 6 9 6 0 6 2 1 5 5 7 8 6 3 1 7 9 5 4 8 0 9 9 9 0 7 4 4 7 9 6\n",
      " 0 1 3 4 4 8 2 3 1 3 1 8 9 9 4 7 8 0 3 5 1 6 8 4 4 4 8 2 0 2 6 7 2 0 0 7 3\n",
      " 6 6 6 5 1 7 5 1 5 3 4 1 9 8 9 2 8 8 9 4 6 9 7 8 6 4 8 3 7 4 4 3 3 5 6 6 4\n",
      " 9 0 1 9 0 2 7 5 6 5 8 2 8 8 7 3 0 9 0 8 9 8 9 6 5 9 8 1 9 0 2 5 8 5 9 9 8\n",
      " 8 8 4 3 3 3 8 1 8 9 0 0 6 0 7 6 0 9 4 1 0 8 4 9 1 3 9 1 2 9 7 7 9 6 8 8 1\n",
      " 0 5 2 9 0 3 3 5 9 2 1 5 9 8 0 3 8 1 2 4 8 6 9 0 0 0 2 3 0 4 2 8 9 0 6 1 9\n",
      " 5 9 2 7 5 7 9 1 4 0 1 0 4 5 0 8 5 0 6 8 9 7 2 6 7 9 6 7 6 5 6 2 8 7 5 7 9\n",
      " 9 2 3 0 1 9 9 7 5 4 4 5 8 4 3 6 4 2 3 4 3 4 2 3 6 1 8 7 0 3 7 6 6 9 8 0 7\n",
      " 5 6 2 6 1 0 7 0 2 3 4 8 1 0 7 8 7 0 4 5 7 9 4 1 6 8 1 1 2 8 7 6 1 1 8 4 9\n",
      " 1 8 0 0 9 8 6 2 6 8 5 1 6 8 7 9 5 8 8 8 7 6 3 8 4 8 4 9 1 5 1 0 1 6 0 9 4\n",
      " 5 0 8 3 1 2 9 7 0 1 2 4 5 9 6 3 8 9 7 8 8 1 8 3 5 7 6 9 1 1 3 1 0 6 0 2 0\n",
      " 4 0 8 6 9 5 7 7 3 4 7 5 6 0 4 3 1 9 6 3 1 8 0 8 5 9 5 0 7 7 1 4 8 9 5 8 6\n",
      " 5 6 1 3 1 9 4 3 9 8 1 2 5 1 8 6 8 8 4 1 9 8 4 9 1 5 7 6 6 8 6 3 4 6 9 2 0\n",
      " 2 5 9 1 6 4 9 0 9 7 0 8 8 4 8 4 9 5 9 6 5 9 9 2 8 0 6 2 8 4 7 0 6 8 7 8 9\n",
      " 3 0 3 5 9 3 2 1 2 4 3 5 0 0 0 0 9 1 8 4 4 3 5 8 5 9 6 1 9 6 6 0 0 7 5 1 8\n",
      " 9 9 5 8 9 2 2 8 7 8 6 6 1 6 7 3 7 2 2 9 7 7 2 0 9 5 6 0 1 6 4 8 5 8 3 8 0\n",
      " 7 9 9 6 4 0 3 6 6 4 6 7 9 9 9 4 6 3 3 7 4 0 3 0 6 8 6 8 9 1 3 9 8 1 0 0 5\n",
      " 8 4 3 2 6 4 9 0 4 3 1 8 5 5 0 5 8 3 0 6 2 6 1 7 9 5 6 2 0 8 1 0 6 6 4 9 1\n",
      " 5 3 9 4 4 3 5 6 0 1 0 5 5 1 7 4 4 6 7 3 2 2 1 5 2 7 3 2 3 9 1 8 5 8 7 5 0\n",
      " 4 1 5 4 0 4 8 3 5 4 0 9 8 4 6 2 6 8 7 3 5 0 4 7 8 1 1 8 2 1 0 6 4 7 5 8 4\n",
      " 1 0 7 0 7 9 9 6 1 9 9 8 2 9 2 3 5 9 1 4 3 3 7 2 7 6 2 3 9 3 0 7 8 2 4 6 3\n",
      " 8 9 0 4 4 9 1 8 6 2 4 7 7 8 7 2 0 9 5 7 6 3 7 7 1 9 5 7 8 5 9 5 9 1 1 1 8\n",
      " 1 8 6 6 4 0 8 4 8 9 5 8 0 9 1 8 5 8 9 2 1 5 1 9 8 8 8 9 1 9 0 5 0 3 2 0 8\n",
      " 6 9 4 8 6 7 8 4 7 8 7 9 1 0 4 5 9 8 8 2 9 6 9 5 6 7 6 8 8 9 0 1 8 8 3 8 8\n",
      " 4 0 4 6 6 1 9 9 9 6 9 8 2 3 5 3 7 9 2 1 9 4 9 4 6 4 4 0 9 4 8 5 0 6 0 1 4\n",
      " 6 6 5 3 6 3 8 1 9 1 8 9 0 9 2 1 5 5 8 7 6 3 8 0 7 5 1 7 4 3 9 8 0 8 4 9 8\n",
      " 9]\n",
      "softmax on raw pixels final test set accuracy: 0.327000\n"
     ]
    }
   ],
   "source": [
    "# evaluate on val set\n",
    "# Evaluate the best softmax on val set\n",
    "y_val_pred = best_softmax.predict(X_val)\n",
    "print(y_val_pred)\n",
    "val_accuracy = np.mean(y_val == y_val_pred)\n",
    "print('softmax on raw pixels final test set accuracy: %f' % (val_accuracy, ))"
   ]
  },
  {
   "cell_type": "markdown",
   "metadata": {},
   "source": [
    "Save the best_softmax weights using pickle:"
   ]
  },
  {
   "cell_type": "code",
   "execution_count": 6,
   "metadata": {},
   "outputs": [],
   "source": [
    "with open('softmax_weights.pkl', 'wb') as f:\n",
    "    pickle.dump(best_softmax.W, f)"
   ]
  },
  {
   "cell_type": "markdown",
   "metadata": {},
   "source": [
    "Load the best_softmax weights using pickle:"
   ]
  },
  {
   "cell_type": "code",
   "execution_count": 7,
   "metadata": {},
   "outputs": [],
   "source": [
    "with open('softmax_weights.pkl', 'rb') as f:\n",
    "    W = pickle.load(f)\n",
    "new_softmax = Softmax()\n",
    "new_softmax.W = W.copy()"
   ]
  },
  {
   "cell_type": "code",
   "execution_count": 8,
   "metadata": {},
   "outputs": [
    {
     "data": {
      "image/png": "[encoded data removed]",
      "text/plain": [
       "<Figure size 720x576 with 10 Axes>"
      ]
     },
     "metadata": {
      "needs_background": "light"
     },
     "output_type": "display_data"
    }
   ],
   "source": [
    "# Visualize the learned weights for each class\n",
    "w = best_softmax.W[:-1,:] # strip out the bias\n",
    "w = w.reshape(32, 32, 3, 10)\n",
    "\n",
    "w_min, w_max = np.min(w), np.max(w)\n",
    "\n",
    "classes = ['plane', 'car', 'bird', 'cat', 'deer', 'dog', 'frog', 'horse', 'ship', 'truck']\n",
    "for i in range(10):\n",
    "    plt.subplot(2, 5, i + 1)\n",
    "    \n",
    "    # Rescale the weights to be between 0 and 255\n",
    "    wimg = 255.0 * (w[:, :, :, i].squeeze() - w_min) / (w_max - w_min)\n",
    "    plt.imshow(wimg.astype('uint8'))\n",
    "    plt.axis('off')\n",
    "    plt.title(classes[i])"
   ]
  }
 ],
 "metadata": {
  "kernelspec": {
   "display_name": "Python 3",
   "language": "python",
   "name": "python3"
  },
  "language_info": {
   "codemirror_mode": {
    "name": "ipython",
    "version": 3
   },
   "file_extension": ".py",
   "mimetype": "text/x-python",
   "name": "python",
   "nbconvert_exporter": "python",
   "pygments_lexer": "ipython3",
   "version": "3.6.9"
  }
 },
 "nbformat": 4,
 "nbformat_minor": 1
}
